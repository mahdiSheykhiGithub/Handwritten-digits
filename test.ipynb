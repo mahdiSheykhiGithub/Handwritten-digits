{
 "cells": [
  {
   "cell_type": "code",
   "execution_count": 1,
   "id": "9aef3024-9352-4ad1-974c-b0b06ebed5b1",
   "metadata": {},
   "outputs": [],
   "source": [
    "import pickle"
   ]
  },
  {
   "cell_type": "code",
   "execution_count": 2,
   "id": "8ce2eab3-902d-4d60-8172-04b851e11080",
   "metadata": {},
   "outputs": [],
   "source": [
    "with open('digits-model.pickle', 'rb') as f:\n",
    "    model = pickle.load(f)"
   ]
  },
  {
   "cell_type": "code",
   "execution_count": 3,
   "id": "9767743c-7799-42ab-80e3-567c21c263f8",
   "metadata": {},
   "outputs": [],
   "source": [
    "from PIL import Image"
   ]
  },
  {
   "cell_type": "code",
   "execution_count": 4,
   "id": "53b154c0-b418-4a45-af6c-00a57a8c4bd8",
   "metadata": {},
   "outputs": [],
   "source": [
    "img = Image.open('digits_paint/img.png')\n",
    "img.thumbnail((8,8))"
   ]
  },
  {
   "cell_type": "code",
   "execution_count": 5,
   "id": "47883414-5ddc-4d99-ae0f-1d52cdbdac78",
   "metadata": {},
   "outputs": [
    {
     "data": {
      "image/jpeg": "[encoded data removed]",
      "image/png": "[encoded data removed]",
      "text/plain": [
       "<PIL.PngImagePlugin.PngImageFile image mode=RGB size=8x8>"
      ]
     },
     "execution_count": 5,
     "metadata": {},
     "output_type": "execute_result"
    }
   ],
   "source": [
    "img"
   ]
  },
  {
   "cell_type": "code",
   "execution_count": 6,
   "id": "8b8aaf8f-d9a8-43a4-a196-2b2a8322fa73",
   "metadata": {},
   "outputs": [],
   "source": [
    "import numpy as np"
   ]
  },
  {
   "cell_type": "code",
   "execution_count": 7,
   "id": "d5c9dfee-3cd0-451b-9127-5f6c06ea6f7c",
   "metadata": {},
   "outputs": [],
   "source": [
    "img = np.array(img)"
   ]
  },
  {
   "cell_type": "code",
   "execution_count": 8,
   "id": "2178bddf-610d-4d49-a8ee-b4c547578710",
   "metadata": {},
   "outputs": [],
   "source": [
    "rgb_weight = np.array([0.3, 0.4, 0.3])"
   ]
  },
  {
   "cell_type": "code",
   "execution_count": 9,
   "id": "8834e3c8-172f-4db6-a601-2ddf8299af68",
   "metadata": {},
   "outputs": [],
   "source": [
    "img = (img @ rgb_weight) / 255"
   ]
  },
  {
   "cell_type": "code",
   "execution_count": 10,
   "id": "817d2fd9-8643-4642-a964-ab5903ca6274",
   "metadata": {},
   "outputs": [],
   "source": [
    "img =[img.reshape(-1)]"
   ]
  },
  {
   "cell_type": "code",
   "execution_count": 11,
   "id": "e9988de5-0034-49c9-a179-1b945e76f97b",
   "metadata": {},
   "outputs": [
    {
     "data": {
      "text/plain": [
       "array([2])"
      ]
     },
     "execution_count": 11,
     "metadata": {},
     "output_type": "execute_result"
    }
   ],
   "source": [
    "model.predict(img)"
   ]
  },
  {
   "cell_type": "code",
   "execution_count": null,
   "id": "9a9d7c04-fc24-41d7-bcd7-a09662c5957b",
   "metadata": {},
   "outputs": [],
   "source": []
  },
  {
   "cell_type": "code",
   "execution_count": null,
   "id": "1cb40405-ebc4-4023-8997-2e74b15c4a70",
   "metadata": {},
   "outputs": [],
   "source": []
  }
 ],
 "metadata": {
  "kernelspec": {
   "display_name": "Python 3 (ipykernel)",
   "language": "python",
   "name": "python3"
  },
  "language_info": {
   "codemirror_mode": {
    "name": "ipython",
    "version": 3
   },
   "file_extension": ".py",
   "mimetype": "text/x-python",
   "name": "python",
   "nbconvert_exporter": "python",
   "pygments_lexer": "ipython3",
   "version": "3.12.0"
  }
 },
 "nbformat": 4,
 "nbformat_minor": 5
}
